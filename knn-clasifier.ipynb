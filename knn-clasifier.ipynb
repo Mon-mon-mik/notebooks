{
 "cells": [
  {
   "cell_type": "code",
   "execution_count": 62,
   "metadata": {},
   "outputs": [],
   "source": [
    "from math import sqrt\n",
    "import numpy as np\n",
    "import pandas as pd"
   ]
  },
  {
   "cell_type": "code",
   "execution_count": 63,
   "metadata": {},
   "outputs": [],
   "source": [
    "def get_data(filename):\n",
    "    data = pd.read_csv(filename)\n",
    "    dataset = data.sample(frac = 1).reset_index(drop = True)\n",
    "    return dataset\n",
    "\n",
    "data_set = get_data(\"/home/osboxes/Desktop/Iris.csv\")\n",
    "n = len(data_set)\n",
    "train_len = int(0.8*n)\n",
    "\n",
    "train_set = data_set[0:train_len]\n",
    "test_set = data_set[data_set.columns[0:4]][train_len:n]"
   ]
  },
  {
   "cell_type": "code",
   "execution_count": 64,
   "metadata": {},
   "outputs": [],
   "source": [
    "def calculate_distance(point, point0):\n",
    "    distance = 0\n",
    "    for i in range(len(point)-1):\n",
    "        distance += (point[i] - point0[i])**2\n",
    "    return sqrt(distance)\n"
   ]
  },
  {
   "cell_type": "code",
   "execution_count": 65,
   "metadata": {},
   "outputs": [],
   "source": [
    "def get_neighbours(train_set, point0, k):\n",
    "    distances = []\n",
    "    \n",
    "    for point in train_set:\n",
    "        distance = calculate_distance(point0, point)\n",
    "        distances.append((point, distance))\n",
    "    #print(distances)\n",
    "    distances.sort(key = lambda x: x[1])\n",
    "    #print(distances)\n",
    "    neighbours = [point[0] for point in distances[0:k]]\n",
    "    return neighbours"
   ]
  },
  {
   "cell_type": "code",
   "execution_count": 68,
   "metadata": {},
   "outputs": [],
   "source": [
    "def predict(train_set, point0, k):\n",
    "    neighbours = get_neighbours(train_set, point0, k)\n",
    "    values = [point[-1] for point in neighbours]\n",
    "    prediction = max(values, key = values.count)\n",
    "    return prediction"
   ]
  },
  {
   "cell_type": "code",
   "execution_count": 71,
   "metadata": {},
   "outputs": [
    {
     "name": "stdout",
     "output_type": "stream",
     "text": [
      "2.0\n",
      "1.0\n",
      "3.0\n",
      "1.0\n",
      "2.0\n",
      "3.0\n",
      "3.0\n",
      "2.0\n",
      "1.0\n",
      "1.0\n",
      "3.0\n",
      "1.0\n",
      "2.0\n",
      "1.0\n",
      "1.0\n",
      "2.0\n",
      "2.0\n",
      "3.0\n",
      "3.0\n",
      "3.0\n",
      "2.0\n",
      "2.0\n",
      "3.0\n",
      "3.0\n",
      "1.0\n",
      "2.0\n",
      "1.0\n",
      "3.0\n",
      "3.0\n",
      "1.0\n"
     ]
    }
   ],
   "source": [
    "train_list = train_set.values.tolist()\n",
    "test_list = test_set.values.tolist()\n",
    "\n",
    "for point0 in test_list:\n",
    "    print(predict(train_list, point0, 5))"
   ]
  },
  {
   "cell_type": "code",
   "execution_count": null,
   "metadata": {},
   "outputs": [],
   "source": []
  },
  {
   "cell_type": "code",
   "execution_count": null,
   "metadata": {},
   "outputs": [],
   "source": []
  }
 ],
 "metadata": {
  "kernelspec": {
   "display_name": "Python 3",
   "language": "python",
   "name": "python3"
  },
  "language_info": {
   "codemirror_mode": {
    "name": "ipython",
    "version": 3
   },
   "file_extension": ".py",
   "mimetype": "text/x-python",
   "name": "python",
   "nbconvert_exporter": "python",
   "pygments_lexer": "ipython3",
   "version": "3.8.2"
  }
 },
 "nbformat": 4,
 "nbformat_minor": 4
}
