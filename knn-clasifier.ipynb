{
 "cells": [
  {
   "cell_type": "code",
   "execution_count": 12,
   "metadata": {},
   "outputs": [],
   "source": [
    "import numpy as np\n",
    "import pandas as pd"
   ]
  },
  {
   "cell_type": "code",
   "execution_count": 30,
   "metadata": {},
   "outputs": [],
   "source": [
    "from math import sqrt\n",
    "\n",
    "class Point:\n",
    "    \n",
    "    def __init__(self, coordinates, label):\n",
    "        self.coordinates = coordinates\n",
    "        self.label = label\n",
    "    \n",
    "    def get_coordinates(self):\n",
    "        return self.coordinates\n",
    "    \n",
    "    def get_label(self):\n",
    "        return self.label\n",
    "    \n",
    "    def distance(self, point):\n",
    "        return sqrt(sum([(x - y) ** 2 for x, y in zip(self.coordinates, point.coordinates)]))\n",
    "    \n",
    "    def __str__(self):\n",
    "        return str(self.coordinates) + \" \" + str(self.label)"
   ]
  },
  {
   "cell_type": "code",
   "execution_count": 31,
   "metadata": {},
   "outputs": [],
   "source": [
    "class Model:\n",
    "    \n",
    "    def __init__(self, k=7):\n",
    "        self.training_set = None\n",
    "        self.k = k\n",
    "    \n",
    "    def train(self, training_set):\n",
    "        self.training_set = training_set\n",
    "    \n",
    "    def classify(self, test_set):\n",
    "        \n",
    "        res = []\n",
    "        \n",
    "        for point in test_set:\n",
    "            neighbours = sorted(self.training_set, key = lambda x: x.distance(point))[0:self.k]\n",
    "            labels = [x.label for x in neighbours]\n",
    "            prediction = max(labels, key = labels.count)\n",
    "            res += [(point, prediction)] \n",
    "        return res\n",
    "    \n",
    "    def confusion(self, test_set):\n",
    "        \n",
    "        predictions = self.classify(test_set)\n",
    "        rows = list(set([x.label for x in self.training_set]))\n",
    "        columns = list(set([x[1] for x in predictions]))\n",
    "        res = \"\"\n",
    "        "
   ]
  },
  {
   "cell_type": "code",
   "execution_count": null,
   "metadata": {},
   "outputs": [],
   "source": [
    "class ConfusionMatrix:\n",
    "    \n",
    "    def __init__(self, predictions):\n",
    "        self.predicitions = predicitions\n",
    "        \n",
    "    def __str__(self):\n",
    "        "
   ]
  },
  {
   "cell_type": "code",
   "execution_count": 32,
   "metadata": {},
   "outputs": [
    {
     "name": "stdout",
     "output_type": "stream",
     "text": [
      "[4.4, 3.2, 1.3, 0.2] 1.0 1.0\n",
      "[4.6, 3.2, 1.4, 0.2] 1.0 1.0\n",
      "[6.4, 2.9, 4.3, 1.3] 2.0 2.0\n",
      "[4.9, 3.1, 1.5, 0.1] 1.0 1.0\n",
      "[4.6, 3.6, 1.0, 0.2] 1.0 1.0\n",
      "[6.3, 2.7, 4.9, 1.8] 3.0 3.0\n",
      "[6.3, 2.5, 4.9, 1.5] 2.0 3.0\n",
      "[4.8, 3.4, 1.9, 0.2] 1.0 1.0\n",
      "[6.1, 2.9, 4.7, 1.4] 2.0 2.0\n",
      "[5.8, 2.6, 4.0, 1.2] 2.0 2.0\n",
      "[5.1, 3.3, 1.7, 0.5] 1.0 1.0\n",
      "[7.3, 2.9, 6.3, 1.8] 3.0 3.0\n",
      "[6.8, 3.2, 5.9, 2.3] 3.0 3.0\n",
      "[6.9, 3.1, 5.1, 2.3] 3.0 3.0\n"
     ]
    }
   ],
   "source": [
    "training_set = [Point(x[0:-1], x[-1]) for x in pd.read_csv(\"data/training_set.csv\").values.tolist()]\n",
    "test_set     = [Point(x[0:-1], x[-1]) for x in pd.read_csv(\"data/test_set.csv\").values.tolist()]\n",
    "model = Model()\n",
    "model.train(training_set)\n",
    "predictions = model.classify(test_set)\n",
    "\n",
    "for prediction in predictions:\n",
    "    print(prediction[0], prediction[1])"
   ]
  },
  {
   "cell_type": "code",
   "execution_count": null,
   "metadata": {},
   "outputs": [],
   "source": []
  }
 ],
 "metadata": {
  "kernelspec": {
   "display_name": "Python 3",
   "language": "python",
   "name": "python3"
  },
  "language_info": {
   "codemirror_mode": {
    "name": "ipython",
    "version": 3
   },
   "file_extension": ".py",
   "mimetype": "text/x-python",
   "name": "python",
   "nbconvert_exporter": "python",
   "pygments_lexer": "ipython3",
   "version": "3.8.2"
  }
 },
 "nbformat": 4,
 "nbformat_minor": 4
}
