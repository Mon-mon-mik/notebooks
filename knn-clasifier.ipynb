{
 "cells": [
  {
   "cell_type": "code",
   "execution_count": null,
   "metadata": {},
   "outputs": [],
   "source": [
    "# kNN cla"
   ]
  },
  {
   "cell_type": "code",
   "execution_count": 56,
   "metadata": {},
   "outputs": [],
   "source": [
    "import pandas as pd"
   ]
  },
  {
   "cell_type": "code",
   "execution_count": 57,
   "metadata": {},
   "outputs": [],
   "source": [
    "from math import sqrt\n",
    "\n",
    "class Point:\n",
    "    \n",
    "    def __init__(self, coordinates, label):\n",
    "        self.coordinates = coordinates\n",
    "        self.label = label\n",
    "    \n",
    "    def get_coordinates(self):\n",
    "        return self.coordinates\n",
    "    \n",
    "    def get_label(self):\n",
    "        return self.label\n",
    "    \n",
    "    def distance(self, point):\n",
    "        return sqrt(sum([(x - y) ** 2 for x, y in zip(self.coordinates, point.coordinates)]))\n",
    "    \n",
    "    def __str__(self):\n",
    "        return str(self.coordinates) + \" \" + str(self.label)"
   ]
  },
  {
   "cell_type": "code",
   "execution_count": 58,
   "metadata": {},
   "outputs": [],
   "source": [
    "class Model:\n",
    "    \n",
    "    def __init__(self, k=7):\n",
    "        self.training_set = None\n",
    "        self.k = k\n",
    "    \n",
    "    def train(self, training_set):\n",
    "        self.training_set = training_set\n",
    "    \n",
    "    def classify(self, test_set):\n",
    "        \n",
    "        res = []\n",
    "        \n",
    "        for point in test_set:\n",
    "            neighbours = sorted(self.training_set, key = lambda x: x.distance(point))[0:self.k]\n",
    "            labels = [x.label for x in neighbours]\n",
    "            prediction = max(labels, key = labels.count)\n",
    "            res += [(point, prediction)] \n",
    "        return res\n"
   ]
  },
  {
   "cell_type": "code",
   "execution_count": 63,
   "metadata": {},
   "outputs": [],
   "source": [
    "class ConfusionMatrix:\n",
    "    \n",
    "    def __init__(self, predictions):\n",
    "        self.predictions = predictions\n",
    "        \n",
    "    def __str__(self):\n",
    "        \n",
    "        rows = sorted(set([x[0].label for x in self.predictions]))\n",
    "        columns = sorted(set([x[1] for x in self.predictions]))\n",
    "        column_width = 10\n",
    "        \n",
    "        res = \" \".join([str(x).center(column_width) for x in columns]) + \"\\n\"\n",
    "        for row in rows:\n",
    "            for column in columns:\n",
    "                res += str(sum([1 for x in self.predictions if x[0].label == row and x[1] == column])).center(column_width)\n",
    "                res += \" \"\n",
    "            res += str(row).center(column_width) + \"\\n\"\n",
    "        return res\n",
    "            "
   ]
  },
  {
   "cell_type": "code",
   "execution_count": 64,
   "metadata": {},
   "outputs": [
    {
     "name": "stdout",
     "output_type": "stream",
     "text": [
      "  label1     label2     label3  \n",
      "    6          0          0        label1  \n",
      "    0          3          1        label2  \n",
      "    0          0          4        label3  \n",
      "\n"
     ]
    }
   ],
   "source": [
    "training_set = [Point(x[0:-1], x[-1]) for x in pd.read_csv(\"data/training_set.csv\").values.tolist()]\n",
    "test_set     = [Point(x[0:-1], x[-1]) for x in pd.read_csv(\"data/test_set.csv\").values.tolist()]\n",
    "model = Model()\n",
    "model.train(training_set)\n",
    "predictions = model.classify(test_set)\n",
    "\n",
    "print(ConfusionMatrix(predictions))"
   ]
  }
 ],
 "metadata": {
  "kernelspec": {
   "display_name": "Python 3",
   "language": "python",
   "name": "python3"
  },
  "language_info": {
   "codemirror_mode": {
    "name": "ipython",
    "version": 3
   },
   "file_extension": ".py",
   "mimetype": "text/x-python",
   "name": "python",
   "nbconvert_exporter": "python",
   "pygments_lexer": "ipython3",
   "version": "3.8.2"
  }
 },
 "nbformat": 4,
 "nbformat_minor": 4
}
