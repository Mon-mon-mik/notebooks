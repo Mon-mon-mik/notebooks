{
 "cells": [
  {
   "cell_type": "markdown",
   "metadata": {},
   "source": [
    "# kNN classifier example implemented in Python"
   ]
  },
  {
   "cell_type": "markdown",
   "metadata": {},
   "source": [
    "**Classification**\n",
    "\n",
    "It is the process of predicting the class of given data points.\n",
    "\n",
    "* Input: A training set of tuples - a list of descriptors and chosen class label attribute.\n",
    "* Output: The model (classifier) that assigns a class to each tuple based on the descriptors' values."
   ]
  },
  {
   "cell_type": "markdown",
   "metadata": {},
   "source": [
    "**kNN algorithm**\n",
    "\n",
    "The kNN-algorithm consists of three steps:\n",
    "1. Calculating the distance between a test set and the training set. The most common is the Euclidean distance. \n",
    "2. Finding the nearest neighbours on the distance criterion.\n",
    "3. Classifying point from the test set. The predicted class of test point is set equal to the most frequent class among k nearest training points."
   ]
  },
  {
   "cell_type": "markdown",
   "metadata": {},
   "source": [
    "Let's start by importing the necessary libraries."
   ]
  },
  {
   "cell_type": "code",
   "execution_count": 3,
   "metadata": {},
   "outputs": [],
   "source": [
    "import pandas as pd\n",
    "from math import sqrt"
   ]
  },
  {
   "cell_type": "markdown",
   "metadata": {},
   "source": [
    "We define class Point.The object of `class Point` has two attributes coordinates and label. "
   ]
  },
  {
   "cell_type": "markdown",
   "metadata": {},
   "source": [
    "Then, we define a method that calculates the distance between the test point and all other points in the training set."
   ]
  },
  {
   "cell_type": "code",
   "execution_count": 4,
   "metadata": {},
   "outputs": [],
   "source": [
    "class Point:\n",
    "    \n",
    "    def __init__(self, coordinates, label):\n",
    "        self.coordinates = coordinates\n",
    "        self.label = label\n",
    "    \n",
    "    def get_coordinates(self):\n",
    "        return self.coordinates\n",
    "    \n",
    "    def get_label(self):\n",
    "        return self.label\n",
    "    \n",
    "    def distance(self, point):\n",
    "        return sqrt(sum([(x - y) ** 2 for x, y in zip(self.coordinates, point.coordinates)]))\n",
    "    \n",
    "    def __str__(self):\n",
    "        return str(self.coordinates) + \" \" + str(self.label)"
   ]
  },
  {
   "cell_type": "markdown",
   "metadata": {},
   "source": [
    "In the init function we define the value of hyperparameter k (the number of nearest neighbors). Choosing the value of k is not a part of the learning process. We've set `k=7`."
   ]
  },
  {
   "cell_type": "markdown",
   "metadata": {},
   "source": [
    "The kNN algorithm does not build any model with the training set. We store the training sample to use it in the prediction stage."
   ]
  },
  {
   "cell_type": "markdown",
   "metadata": {},
   "source": [
    "The method `classify` create the list that stores the k nearest neigbours. Then, we create a list of labels for neigbours and choose the most frequent class label among the k closest neigbours."
   ]
  },
  {
   "cell_type": "code",
   "execution_count": 10,
   "metadata": {},
   "outputs": [],
   "source": [
    "class Model:\n",
    "    \n",
    "    def __init__(self, k=7):\n",
    "        self.training_set = None\n",
    "        self.k = k\n",
    "    \n",
    "    def train(self, training_set):\n",
    "        self.training_set = training_set\n",
    "    \n",
    "    def classify(self, test_set):\n",
    "        \n",
    "        res = []\n",
    "        \n",
    "        for point in test_set:\n",
    "            neighbours = sorted(self.training_set, key = lambda x: x.distance(point))[0:self.k]\n",
    "            labels = [x.label for x in neighbours]\n",
    "            prediction = max(labels, key = labels.count)\n",
    "            res += [(point, prediction)] \n",
    "        return res\n"
   ]
  },
  {
   "cell_type": "markdown",
   "metadata": {},
   "source": [
    "Finally, we construct the confusion matrix to check the performance of the algorithm. Each row of the matrix represents the instances in a predicted class and each column represents the instances in an actual class."
   ]
  },
  {
   "cell_type": "code",
   "execution_count": 11,
   "metadata": {},
   "outputs": [],
   "source": [
    "class ConfusionMatrix:\n",
    "    \n",
    "    def __init__(self, predictions):\n",
    "        self.predictions = predictions\n",
    "        \n",
    "    def __str__(self):\n",
    "        \n",
    "        rows = sorted(set([x[0].label for x in self.predictions]))\n",
    "        columns = sorted(set([x[1] for x in self.predictions]))\n",
    "        column_width = 10\n",
    "        \n",
    "        res = \" \".join([str(x).center(column_width) for x in columns]) + \"\\n\"\n",
    "        for row in rows:\n",
    "            for column in columns:\n",
    "                res += str(sum([1 for x in self.predictions if x[0].label == row and x[1] == column])).center(column_width)\n",
    "                res += \" \"\n",
    "            res += str(row).center(column_width) + \"\\n\"\n",
    "        return res\n",
    "            "
   ]
  },
  {
   "cell_type": "markdown",
   "metadata": {},
   "source": [
    "Let's test out the model. First, we load two data sets: traing set and test set."
   ]
  },
  {
   "cell_type": "code",
   "execution_count": 12,
   "metadata": {},
   "outputs": [],
   "source": [
    "training_set = [Point(x[0:-1], x[-1]) for x in pd.read_csv(\"data/training_set.csv\").values.tolist()]\n",
    "test_set     = [Point(x[0:-1], x[-1]) for x in pd.read_csv(\"data/test_set.csv\").values.tolist()]"
   ]
  },
  {
   "cell_type": "markdown",
   "metadata": {},
   "source": [
    "We call `classify` method from `class model`."
   ]
  },
  {
   "cell_type": "code",
   "execution_count": 13,
   "metadata": {},
   "outputs": [],
   "source": [
    "model = Model()\n",
    "model.train(training_set)\n",
    "predictions = model.classify(test_set)"
   ]
  },
  {
   "cell_type": "markdown",
   "metadata": {},
   "source": [
    "Let's print the confusion matrix to check the accuracy of our model."
   ]
  },
  {
   "cell_type": "code",
   "execution_count": 24,
   "metadata": {},
   "outputs": [
    {
     "name": "stdout",
     "output_type": "stream",
     "text": [
      "  label1     label2     label3  \n",
      "    6          0          0        label1  \n",
      "    0          3          1        label2  \n",
      "    0          0          4        label3  \n",
      "\n"
     ]
    }
   ],
   "source": [
    "print(ConfusionMatrix(predictions))"
   ]
  }
 ],
 "metadata": {
  "jupytext": {
   "formats": "ipynb,py"
  },
  "kernelspec": {
   "display_name": "Python 3",
   "language": "python",
   "name": "python3"
  },
  "language_info": {
   "codemirror_mode": {
    "name": "ipython",
    "version": 3
   },
   "file_extension": ".py",
   "mimetype": "text/x-python",
   "name": "python",
   "nbconvert_exporter": "python",
   "pygments_lexer": "ipython3",
   "version": "3.8.2"
  }
 },
 "nbformat": 4,
 "nbformat_minor": 4
}
