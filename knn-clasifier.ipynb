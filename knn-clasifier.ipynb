{
 "cells": [
  {
   "cell_type": "code",
   "execution_count": 116,
   "metadata": {},
   "outputs": [],
   "source": [
    "from math import sqrt\n",
    "import numpy as np"
   ]
  },
  {
   "cell_type": "code",
   "execution_count": null,
   "metadata": {},
   "outputs": [],
   "source": [
    "def get_data(filename):\n",
    "    dataset = np.read_csv(filename)\n",
    "    return dataset"
   ]
  },
  {
   "cell_type": "code",
   "execution_count": 117,
   "metadata": {},
   "outputs": [],
   "source": [
    "def calculate_distance(point, point0):\n",
    "    distance = 0\n",
    "    for i in range(len(point)-1):\n",
    "        distance += (point[i] - point0[i])**2\n",
    "    return sqrt(distance)"
   ]
  },
  {
   "cell_type": "code",
   "execution_count": 118,
   "metadata": {},
   "outputs": [],
   "source": [
    "dataset = [[158, 58, 1],\n",
    "           [158, 59, 1],\n",
    "           [158, 63, 1],\n",
    "           [160, 59, 1],\n",
    "           [160, 60, 1],\n",
    "           [163, 60, 2],\n",
    "           [153, 61, 2],\n",
    "           [163, 61, 2],\n",
    "           [165, 61, 3],\n",
    "           [165, 62, 3],\n",
    "           [165, 63, 3]]"
   ]
  },
  {
   "cell_type": "code",
   "execution_count": 119,
   "metadata": {},
   "outputs": [],
   "source": [
    "def get_neighbours(train_set, point0, k):\n",
    "    distances = []\n",
    "    \n",
    "    for point in train_set:\n",
    "        distance = calculate_distance(point0, point)\n",
    "        distances.append((point, distance))\n",
    "    #print(distances)\n",
    "    distances.sort(key = lambda x: x[1])\n",
    "    #print(distances)\n",
    "    neighbours = [point[0] for point in distances[0:k]]\n",
    "    return neighbours"
   ]
  },
  {
   "cell_type": "code",
   "execution_count": 120,
   "metadata": {},
   "outputs": [],
   "source": [
    "point0 = [164,60]"
   ]
  },
  {
   "cell_type": "code",
   "execution_count": 121,
   "metadata": {},
   "outputs": [],
   "source": [
    "def predict(train_set, point0, k):\n",
    "    neighbours = get_neighbours(train_set, point0, k)\n",
    "    values = [point[-1] for point in neighbours]\n",
    "    prediction = max(values, key = values.count)\n",
    "    return prediction"
   ]
  },
  {
   "cell_type": "code",
   "execution_count": 122,
   "metadata": {},
   "outputs": [
    {
     "data": {
      "text/plain": [
       "3"
      ]
     },
     "execution_count": 122,
     "metadata": {},
     "output_type": "execute_result"
    }
   ],
   "source": [
    "predict(dataset, point0, 5)"
   ]
  },
  {
   "cell_type": "code",
   "execution_count": null,
   "metadata": {},
   "outputs": [],
   "source": []
  },
  {
   "cell_type": "code",
   "execution_count": null,
   "metadata": {},
   "outputs": [],
   "source": []
  },
  {
   "cell_type": "code",
   "execution_count": null,
   "metadata": {},
   "outputs": [],
   "source": []
  }
 ],
 "metadata": {
  "kernelspec": {
   "display_name": "Python 3",
   "language": "python",
   "name": "python3"
  },
  "language_info": {
   "codemirror_mode": {
    "name": "ipython",
    "version": 3
   },
   "file_extension": ".py",
   "mimetype": "text/x-python",
   "name": "python",
   "nbconvert_exporter": "python",
   "pygments_lexer": "ipython3",
   "version": "3.8.2"
  }
 },
 "nbformat": 4,
 "nbformat_minor": 4
}
