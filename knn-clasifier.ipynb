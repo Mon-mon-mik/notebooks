{
 "cells": [
  {
   "cell_type": "code",
   "execution_count": 51,
   "metadata": {},
   "outputs": [],
   "source": [
    "import numpy as np\n",
    "import pandas as pd"
   ]
  },
  {
   "cell_type": "code",
   "execution_count": 52,
   "metadata": {},
   "outputs": [],
   "source": [
    "from math import sqrt\n",
    "\n",
    "class Point:\n",
    "    \n",
    "    def __init__(self, coordinates, label):\n",
    "        self.coordinates = coordinates\n",
    "        self.label = label\n",
    "    \n",
    "    def get_coordinates(self):\n",
    "        return self.coordinates\n",
    "    \n",
    "    def get_label(self):\n",
    "        return self.label\n",
    "    \n",
    "    def distance(self, point):\n",
    "        return sqrt(sum([(x - y) ** 2 for x, y in zip(self.coordinates, point.coordinates)]))\n",
    "    \n",
    "    def __str__(self):\n",
    "        return str(self.coordinates) + \" \" + str(self.label)"
   ]
  },
  {
   "cell_type": "code",
   "execution_count": 53,
   "metadata": {},
   "outputs": [],
   "source": [
    "class Model:\n",
    "    \n",
    "    def __init__(self, k=7):\n",
    "        self.training_set = None\n",
    "        self.k = k\n",
    "    \n",
    "    def train(self, training_set):\n",
    "        self.training_set = training_set\n",
    "    \n",
    "    def classify(self, test_set):\n",
    "        \n",
    "        res = []\n",
    "        \n",
    "        for point in test_set:\n",
    "            neighbours = sorted(self.training_set, key = lambda x: x.distance(point))[0:self.k]\n",
    "            labels = [x.label for x in neighbours]\n",
    "            prediction = max(labels, key = labels.count)\n",
    "            res += [(point, prediction)] \n",
    "        return res\n"
   ]
  },
  {
   "cell_type": "code",
   "execution_count": 54,
   "metadata": {},
   "outputs": [],
   "source": [
    "class ConfusionMatrix:\n",
    "    \n",
    "    def __init__(self, predictions):\n",
    "        self.predictions = predictions\n",
    "        \n",
    "    def __str__(self):\n",
    "        \n",
    "        rows = list(set([x[0].label for x in self.predictions]))\n",
    "        columns = list(set([x[1] for x in self.predictions]))\n",
    "        \n",
    "        res = \" \".join([str(x).center(5) for x in columns]) + \"\\n\"\n",
    "        for row in rows:\n",
    "            for column in columns:\n",
    "                res += str(sum([1 for x in self.predictions if x[0].label == row and x[1] == column])).center(5)\n",
    "                res += \" \"\n",
    "            res += str(row).center(5) + \"\\n\"\n",
    "        return res\n",
    "            "
   ]
  },
  {
   "cell_type": "code",
   "execution_count": 55,
   "metadata": {},
   "outputs": [
    {
     "name": "stdout",
     "output_type": "stream",
     "text": [
      " 1.0   2.0   3.0 \n",
      "  6     0     0    1.0 \n",
      "  0     3     1    2.0 \n",
      "  0     0     4    3.0 \n",
      "\n"
     ]
    }
   ],
   "source": [
    "training_set = [Point(x[0:-1], x[-1]) for x in pd.read_csv(\"data/training_set.csv\").values.tolist()]\n",
    "test_set     = [Point(x[0:-1], x[-1]) for x in pd.read_csv(\"data/test_set.csv\").values.tolist()]\n",
    "model = Model()\n",
    "model.train(training_set)\n",
    "predictions = model.classify(test_set)\n",
    "\n",
    "print(ConfusionMatrix(predictions))"
   ]
  },
  {
   "cell_type": "code",
   "execution_count": null,
   "metadata": {},
   "outputs": [],
   "source": []
  },
  {
   "cell_type": "code",
   "execution_count": null,
   "metadata": {},
   "outputs": [],
   "source": []
  },
  {
   "cell_type": "code",
   "execution_count": null,
   "metadata": {},
   "outputs": [],
   "source": []
  },
  {
   "cell_type": "code",
   "execution_count": null,
   "metadata": {},
   "outputs": [],
   "source": []
  }
 ],
 "metadata": {
  "kernelspec": {
   "display_name": "Python 3",
   "language": "python",
   "name": "python3"
  },
  "language_info": {
   "codemirror_mode": {
    "name": "ipython",
    "version": 3
   },
   "file_extension": ".py",
   "mimetype": "text/x-python",
   "name": "python",
   "nbconvert_exporter": "python",
   "pygments_lexer": "ipython3",
   "version": "3.8.2"
  }
 },
 "nbformat": 4,
 "nbformat_minor": 4
}
